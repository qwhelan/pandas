{
 "metadata": {
  "name": "",
  "signature": "sha256:4b84a25387c9c760e36e80f438d356ec1830cc02448c3f7de0bd441053b2967f"
 },
 "nbformat": 3,
 "nbformat_minor": 0,
 "worksheets": [
  {
   "cells": [
    {
     "cell_type": "code",
     "collapsed": false,
     "input": [
      "from memory_leak_df import *\n",
      "import pandas as pd"
     ],
     "language": "python",
     "metadata": {},
     "outputs": [
      {
       "output_type": "stream",
       "stream": "stderr",
       "text": [
        "/Users/chris/anaconda/lib/python2.7/site-packages/matplotlib/__init__.py:1312: UserWarning:  This call to matplotlib.use() has no effect\n",
        "because the backend has already been chosen;\n",
        "matplotlib.use() must be called *before* pylab, matplotlib.pyplot,\n",
        "or matplotlib.backends is imported for the first time.\n",
        "\n",
        "  warnings.warn(_use_error_msg)\n"
       ]
      }
     ],
     "prompt_number": 1
    },
    {
     "cell_type": "code",
     "collapsed": false,
     "input": [
      "#no_loop()"
     ],
     "language": "python",
     "metadata": {},
     "outputs": [],
     "prompt_number": 2
    },
    {
     "cell_type": "code",
     "collapsed": false,
     "input": [
      "foo(2)"
     ],
     "language": "python",
     "metadata": {},
     "outputs": [
      {
       "output_type": "stream",
       "stream": "stdout",
       "text": [
        "*******************************\n",
        "i : 0\n",
        "160008              0\n",
        "0     0.719305\n",
        "1    -0.467120\n",
        "2     0.276078\n",
        "3    -0.872630\n",
        "4     1.697251\n",
        "5    -1.234473\n",
        "6    -0.305066\n",
        "7    -1.730512\n",
        "8     0.836672\n",
        "9     1.292725\n",
        "10    0.163632\n",
        "11   -0.433213\n",
        "12   -1.822934\n",
        "13   -0.161852\n",
        "14   -0.795980\n",
        "15    1.995907\n",
        "16    1.397905\n",
        "17   -1.193059\n",
        "18    1.739568\n",
        "19   -0.312827\n",
        "20   -0.884859\n",
        "21   -0.148447\n",
        "22   -0.552343\n",
        "23   -0.952140\n",
        "24    0.167324\n",
        "25    0.349431\n",
        "26   -0.211577\n",
        "27    0.219154\n",
        "28    2.004137\n",
        "29    1.067150\n",
        "...        ...\n",
        "9970  2.667602\n",
        "9971  0.415845\n",
        "9972  0.065545\n",
        "9973 -1.017356\n",
        "9974  1.732971\n",
        "9975 -1.074520\n",
        "9976  1.207013\n",
        "9977  0.373185\n",
        "9978  0.545496\n",
        "9979  0.971319\n",
        "9980 -0.119516\n",
        "9981  0.261483\n",
        "9982  0.088076\n",
        "9983  0.220384\n",
        "9984  0.003290\n",
        "9985 -0.374108\n",
        "9986  0.314599\n",
        "9987 -0.022799\n",
        "9988 -0.248802\n",
        "9989  0.584538\n",
        "9990  0.405652\n",
        "9991  0.446008\n",
        "9992  0.171426\n",
        "9993  0.765218\n",
        "9994 -0.443602\n",
        "9995  0.686424\n",
        "9996 -2.717164\n",
        "9997 -0.887479\n",
        "9998  0.165413\n",
        "9999  0.805619\n",
        "\n",
        "[10000 rows x 1 columns]\n",
        "61991"
       ]
      },
      {
       "output_type": "stream",
       "stream": "stdout",
       "text": [
        "\n",
        "160016\n",
        "*******************************\n",
        "i : 1\n",
        "160008"
       ]
      },
      {
       "output_type": "stream",
       "stream": "stdout",
       "text": [
        "              0\n",
        "0     0.719305\n",
        "1    -0.467120\n",
        "2     0.276078\n",
        "3    -0.872630\n",
        "4     1.697251\n",
        "5    -1.234473\n",
        "6    -0.305066\n",
        "7    -1.730512\n",
        "8     0.836672\n",
        "9     1.292725\n",
        "10    0.163632\n",
        "11   -0.433213\n",
        "12   -1.822934\n",
        "13   -0.161852\n",
        "14   -0.795980\n",
        "15    1.995907\n",
        "16    1.397905\n",
        "17   -1.193059\n",
        "18    1.739568\n",
        "19   -0.312827\n",
        "20   -0.884859\n",
        "21   -0.148447\n",
        "22   -0.552343\n",
        "23   -0.952140\n",
        "24    0.167324\n",
        "25    0.349431\n",
        "26   -0.211577\n",
        "27    0.219154\n",
        "28    2.004137\n",
        "29    1.067150\n",
        "...        ...\n",
        "9970  2.667602\n",
        "9971  0.415845\n",
        "9972  0.065545\n",
        "9973 -1.017356\n",
        "9974  1.732971\n",
        "9975 -1.074520\n",
        "9976  1.207013\n",
        "9977  0.373185\n",
        "9978  0.545496\n",
        "9979  0.971319\n",
        "9980 -0.119516\n",
        "9981  0.261483\n",
        "9982  0.088076\n",
        "9983  0.220384\n",
        "9984  0.003290\n",
        "9985 -0.374108\n",
        "9986  0.314599\n",
        "9987 -0.022799\n",
        "9988 -0.248802\n",
        "9989  0.584538\n",
        "9990  0.405652\n",
        "9991  0.446008\n",
        "9992  0.171426\n",
        "9993  0.765218\n",
        "9994 -0.443602\n",
        "9995  0.686424\n",
        "9996 -2.717164\n",
        "9997 -0.887479\n",
        "9998  0.165413\n",
        "9999  0.805619\n",
        "\n",
        "[10000 rows x 1 columns]\n",
        "61787\n",
        "160016\n",
        "*******************************\n",
        "i : 2\n",
        "160008"
       ]
      },
      {
       "output_type": "stream",
       "stream": "stdout",
       "text": [
        "              0\n",
        "0     0.719305\n",
        "1    -0.467120\n",
        "2     0.276078\n",
        "3    -0.872630\n",
        "4     1.697251\n",
        "5    -1.234473\n",
        "6    -0.305066\n",
        "7    -1.730512\n",
        "8     0.836672\n",
        "9     1.292725\n",
        "10    0.163632\n",
        "11   -0.433213\n",
        "12   -1.822934\n",
        "13   -0.161852\n",
        "14   -0.795980\n",
        "15    1.995907\n",
        "16    1.397905\n",
        "17   -1.193059\n",
        "18    1.739568\n",
        "19   -0.312827\n",
        "20   -0.884859\n",
        "21   -0.148447\n",
        "22   -0.552343\n",
        "23   -0.952140\n",
        "24    0.167324\n",
        "25    0.349431\n",
        "26   -0.211577\n",
        "27    0.219154\n",
        "28    2.004137\n",
        "29    1.067150\n",
        "...        ...\n",
        "9970  2.667602\n",
        "9971  0.415845\n",
        "9972  0.065545\n",
        "9973 -1.017356\n",
        "9974  1.732971\n",
        "9975 -1.074520\n",
        "9976  1.207013\n",
        "9977  0.373185\n",
        "9978  0.545496\n",
        "9979  0.971319\n",
        "9980 -0.119516\n",
        "9981  0.261483\n",
        "9982  0.088076\n",
        "9983  0.220384\n",
        "9984  0.003290\n",
        "9985 -0.374108\n",
        "9986  0.314599\n",
        "9987 -0.022799\n",
        "9988 -0.248802\n",
        "9989  0.584538\n",
        "9990  0.405652\n",
        "9991  0.446008\n",
        "9992  0.171426\n",
        "9993  0.765218\n",
        "9994 -0.443602\n",
        "9995  0.686424\n",
        "9996 -2.717164\n",
        "9997 -0.887479\n",
        "9998  0.165413\n",
        "9999  0.805619\n",
        "\n",
        "[10000 rows x 1 columns]\n",
        "61787\n",
        "160016\n",
        "   gc.get_objects  sys.getsizeof\n",
        "0           61991         160016\n",
        "1           61787         160016\n",
        "2           61787         160016\n",
        "Graph written to /var/folders/s0/z1jhs99n5bn57tgfxcmgxf300000gn/T/objgraph-vIW0Lg.dot (368 nodes)"
       ]
      },
      {
       "output_type": "stream",
       "stream": "stdout",
       "text": [
        "\n",
        "Graph viewer (xdot) not found, generating a png instead\n",
        "Image generated as /var/folders/s0/z1jhs99n5bn57tgfxcmgxf300000gn/T/objgraph-vIW0Lg.png"
       ]
      },
      {
       "output_type": "stream",
       "stream": "stdout",
       "text": [
        "\n"
       ]
      }
     ],
     "prompt_number": 3
    },
    {
     "cell_type": "code",
     "collapsed": false,
     "input": [
      "ps = [x for x in gc.get_objects() if isinstance(x, pd.DataFrame)]"
     ],
     "language": "python",
     "metadata": {},
     "outputs": [],
     "prompt_number": 4
    },
    {
     "cell_type": "code",
     "collapsed": false,
     "input": [
      "for p in ps[-10:]:\n",
      "    print(p, [type(x) for x in gc.get_referrers(p)])\n",
      "  #  print(p, gc.get_referents(p))\n",
      "  #  print(p.freq, len(gc.get_referrers(p.freq)))\n",
      "  #  print(type(p.freq), [type(x) for x in gc.get_referrers(p.freq)])"
     ],
     "language": "python",
     "metadata": {},
     "outputs": [
      {
       "output_type": "stream",
       "stream": "stdout",
       "text": [
        "(             0\n",
        "0     1.090432\n",
        "1    -0.794107\n",
        "2    -1.872523\n",
        "3    -0.931044\n",
        "4     1.756638\n",
        "5     0.824093\n",
        "6     2.195179\n",
        "7    -1.701130\n",
        "8     0.966998\n",
        "9    -0.941088\n",
        "10   -1.533561\n",
        "11    0.399706\n",
        "12    0.959766\n",
        "13    0.759112\n",
        "14    0.415828\n",
        "15   -0.749825\n",
        "16    0.945913\n",
        "17    1.149308\n",
        "18    0.663465\n",
        "19   -0.375819\n",
        "20    0.179752\n",
        "21    0.200686\n",
        "22    1.082917\n",
        "23    0.071286\n",
        "24   -0.475255\n",
        "25    1.101446\n",
        "26    0.363104\n",
        "27    0.889378\n",
        "28    0.609927\n",
        "29   -0.568154\n",
        "...        ...\n",
        "9970  1.284035\n",
        "9971  0.410760\n",
        "9972 -0.998444\n",
        "9973  1.113303\n",
        "9974 -0.862305\n",
        "9975  1.183427\n",
        "9976 -0.510489\n",
        "9977 -0.314054\n",
        "9978 -1.060835\n",
        "9979 -1.102781\n",
        "9980  0.821106\n",
        "9981 -0.307300\n",
        "9982  0.968105\n",
        "9983 -0.106512\n",
        "9984  0.591013\n",
        "9985 -0.053432\n",
        "9986  1.163597\n",
        "9987 -0.663044\n",
        "9988  2.877642\n",
        "9989 -0.421714\n",
        "9990  0.767976\n",
        "9991 -1.164138\n",
        "9992 -0.404673\n",
        "9993  0.712104\n",
        "9994  0.503335\n",
        "9995 -1.177487\n",
        "9996  1.059166\n",
        "9997  0.708366\n",
        "9998 -0.407421\n",
        "9999  0.169161\n",
        "\n",
        "[10000 rows x 1 columns], [<type 'list'>, <type 'list'>, <type 'dict'>, <type 'dict'>])\n"
       ]
      }
     ],
     "prompt_number": 5
    },
    {
     "cell_type": "code",
     "collapsed": false,
     "input": [
      "import objgraph"
     ],
     "language": "python",
     "metadata": {},
     "outputs": [],
     "prompt_number": 6
    },
    {
     "cell_type": "code",
     "collapsed": false,
     "input": [
      "objgraph.show_backrefs(p)"
     ],
     "language": "python",
     "metadata": {},
     "outputs": [
      {
       "output_type": "stream",
       "stream": "stdout",
       "text": [
        "Graph written to /var/folders/s0/z1jhs99n5bn57tgfxcmgxf300000gn/T/objgraph-NjcHhd.dot (15 nodes)\n",
        "Graph viewer (xdot) not found, generating a png instead\n",
        "Image generated as /var/folders/s0/z1jhs99n5bn57tgfxcmgxf300000gn/T/objgraph-NjcHhd.png"
       ]
      },
      {
       "output_type": "stream",
       "stream": "stdout",
       "text": [
        "\n"
       ]
      }
     ],
     "prompt_number": 7
    },
    {
     "cell_type": "code",
     "collapsed": false,
     "input": [
      "objgraph.show_backrefs(objgraph.by_type('DataFrame') + objgraph.by_type('MultiIndex') + objgraph.by_type('ndarray'), max_depth=7)"
     ],
     "language": "python",
     "metadata": {},
     "outputs": [
      {
       "output_type": "stream",
       "stream": "stdout",
       "text": [
        "Graph written to /var/folders/s0/z1jhs99n5bn57tgfxcmgxf300000gn/T/objgraph-HyxpJz.dot (183 nodes)\n",
        "Graph viewer (xdot) not found, generating a png instead\n",
        "Image generated as /var/folders/s0/z1jhs99n5bn57tgfxcmgxf300000gn/T/objgraph-HyxpJz.png"
       ]
      },
      {
       "output_type": "stream",
       "stream": "stdout",
       "text": [
        "\n"
       ]
      }
     ],
     "prompt_number": 11
    },
    {
     "cell_type": "code",
     "collapsed": false,
     "input": [
      "len(objgraph.by_type('DataFrame') + objgraph.by_type('MultiIndex') + objgraph.by_type('ndarray'))"
     ],
     "language": "python",
     "metadata": {},
     "outputs": [
      {
       "metadata": {},
       "output_type": "pyout",
       "prompt_number": 9,
       "text": [
        "9"
       ]
      }
     ],
     "prompt_number": 9
    },
    {
     "cell_type": "code",
     "collapsed": false,
     "input": [
      "objgraph.by_type"
     ],
     "language": "python",
     "metadata": {},
     "outputs": [
      {
       "metadata": {},
       "output_type": "pyout",
       "prompt_number": 13,
       "text": [
        "[('function', 21879),\n",
        " ('tuple', 6442),\n",
        " ('dict', 6236),\n",
        " ('list', 3429),\n",
        " ('cell', 3094),\n",
        " ('weakref', 3063),\n",
        " ('builtin_function_or_method', 2055),\n",
        " ('type', 2009),\n",
        " ('wrapper_descriptor', 2005),\n",
        " ('getset_descriptor', 1856)]"
       ]
      }
     ],
     "prompt_number": 13
    },
    {
     "cell_type": "code",
     "collapsed": false,
     "input": [
      "df = pd.DataFrame(np.random.randn(100, 10))\n",
      "df.ix[0]"
     ],
     "language": "python",
     "metadata": {},
     "outputs": [
      {
       "metadata": {},
       "output_type": "pyout",
       "prompt_number": 14,
       "text": [
        "0   -0.401149\n",
        "1   -0.831858\n",
        "2    1.035983\n",
        "3   -1.042763\n",
        "4   -0.338150\n",
        "5    0.496235\n",
        "6   -0.136010\n",
        "7   -0.516587\n",
        "8   -0.112107\n",
        "9   -0.976137\n",
        "Name: 0, dtype: float64"
       ]
      }
     ],
     "prompt_number": 14
    },
    {
     "cell_type": "code",
     "collapsed": false,
     "input": [
      "e = df.index._engine"
     ],
     "language": "python",
     "metadata": {},
     "outputs": [],
     "prompt_number": 16
    },
    {
     "cell_type": "code",
     "collapsed": false,
     "input": [
      "e."
     ],
     "language": "python",
     "metadata": {},
     "outputs": [
      {
       "ename": "TypeError",
       "evalue": "get_backfill_indexer() takes at least 1 positional argument (0 given)",
       "output_type": "pyerr",
       "traceback": [
        "\u001b[0;31m---------------------------------------------------------------------------\u001b[0m\n\u001b[0;31mTypeError\u001b[0m                                 Traceback (most recent call last)",
        "\u001b[0;32m<ipython-input-17-9fec4c53e78c>\u001b[0m in \u001b[0;36m<module>\u001b[0;34m()\u001b[0m\n\u001b[0;32m----> 1\u001b[0;31m \u001b[0me\u001b[0m\u001b[0;34m.\u001b[0m\u001b[0mget_backfill_indexer\u001b[0m\u001b[0;34m(\u001b[0m\u001b[0;34m)\u001b[0m\u001b[0;34m\u001b[0m\u001b[0m\n\u001b[0m",
        "\u001b[0;32m/Users/chris/external/pandas/pandas/index.so\u001b[0m in \u001b[0;36mpandas.index.Int64Engine.get_backfill_indexer (pandas/index.c:7120)\u001b[0;34m()\u001b[0m\n",
        "\u001b[0;31mTypeError\u001b[0m: get_backfill_indexer() takes at least 1 positional argument (0 given)"
       ]
      }
     ],
     "prompt_number": 17
    },
    {
     "cell_type": "code",
     "collapsed": false,
     "input": [
      "df = pd.DataFrame(range(10000))\n",
      "\n",
      "def f(df):\n",
      "    for dfi in np.array_split(df,100):\n",
      "        shuffle = dfi.reindex(np.random.permutation(dfi.index))\n",
      "        one = shuffle.iloc[:50]\n",
      "        two = shuffle.iloc[50:100]\n",
      "    #    print one\n",
      "    #    print two"
     ],
     "language": "python",
     "metadata": {},
     "outputs": [],
     "prompt_number": 8
    },
    {
     "cell_type": "code",
     "collapsed": false,
     "input": [
      "%memit f(df)"
     ],
     "language": "python",
     "metadata": {},
     "outputs": [
      {
       "output_type": "stream",
       "stream": "stdout",
       "text": [
        "peak memory: 71.14 MiB, increment: 0.03 MiB\n"
       ]
      }
     ],
     "prompt_number": 9
    },
    {
     "cell_type": "code",
     "collapsed": false,
     "input": [],
     "language": "python",
     "metadata": {},
     "outputs": []
    }
   ],
   "metadata": {}
  }
 ]
}