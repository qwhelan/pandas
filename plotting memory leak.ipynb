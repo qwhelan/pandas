{
 "metadata": {
  "name": "",
  "signature": "sha256:8d79bf689d722138d16efd1dd902ef35505c8ae45df2fd34fd34fd5bf2074034"
 },
 "nbformat": 3,
 "nbformat_minor": 0,
 "worksheets": [
  {
   "cells": [
    {
     "cell_type": "code",
     "collapsed": false,
     "input": [
      "from memory_leak import *\n",
      "import pandas as pd"
     ],
     "language": "python",
     "metadata": {},
     "outputs": [
      {
       "output_type": "stream",
       "stream": "stderr",
       "text": [
        "/Users/chris/anaconda/lib/python2.7/site-packages/matplotlib/__init__.py:1312: UserWarning:  This call to matplotlib.use() has no effect\n",
        "because the backend has already been chosen;\n",
        "matplotlib.use() must be called *before* pylab, matplotlib.pyplot,\n",
        "or matplotlib.backends is imported for the first time.\n",
        "\n",
        "  warnings.warn(_use_error_msg)\n"
       ]
      }
     ],
     "prompt_number": 1
    },
    {
     "cell_type": "code",
     "collapsed": false,
     "input": [
      "#no_loop()"
     ],
     "language": "python",
     "metadata": {},
     "outputs": [],
     "prompt_number": 2
    },
    {
     "cell_type": "code",
     "collapsed": false,
     "input": [
      "foo(2)"
     ],
     "language": "python",
     "metadata": {},
     "outputs": [
      {
       "output_type": "stream",
       "stream": "stdout",
       "text": [
        "*******************************\n",
        "i : 0\n",
        "61943\n",
        "514576\n",
        "['__call__', '__class__', '__closure__', '__code__', '__defaults__', '__delattr__', '__dict__', '__doc__', '__format__', '__get__', '__getattribute__', '__globals__', '__hash__', '__init__', '__module__', '__name__', '__new__', '__reduce__', '__reduce_ex__', '__repr__', '__setattr__', '__sizeof__', '__str__', '__subclasshook__', 'func_closure', 'func_code', 'func_defaults', 'func_dict', 'func_doc', 'func_globals', 'func_name']"
       ]
      },
      {
       "output_type": "stream",
       "stream": "stdout",
       "text": [
        "\n",
        "['__add__', '__class__', '__contains__', '__delattr__', '__doc__', '__eq__', '__format__', '__ge__', '__getattribute__', '__getitem__', '__getnewargs__', '__getslice__', '__gt__', '__hash__', '__init__', '__iter__', '__le__', '__len__', '__lt__', '__mul__', '__ne__', '__new__', '__reduce__', '__reduce_ex__', '__repr__', '__rmul__', '__setattr__', '__sizeof__', '__str__', '__subclasshook__', 'count', 'index']\n",
        "*******************************"
       ]
      },
      {
       "output_type": "stream",
       "stream": "stdout",
       "text": [
        "\n",
        "i : 1\n",
        "275454\n",
        "2380496\n",
        "['__call__', '__class__', '__closure__', '__code__', '__defaults__', '__delattr__', '__dict__', '__doc__', '__format__', '__get__', '__getattribute__', '__globals__', '__hash__', '__init__', '__module__', '__name__', '__new__', '__reduce__', '__reduce_ex__', '__repr__', '__setattr__', '__sizeof__', '__str__', '__subclasshook__', 'func_closure', 'func_code', 'func_defaults', 'func_dict', 'func_doc', 'func_globals', 'func_name']"
       ]
      },
      {
       "output_type": "stream",
       "stream": "stdout",
       "text": [
        "\n",
        "['__add__', '__class__', '__contains__', '__delattr__', '__doc__', '__eq__', '__format__', '__ge__', '__getattribute__', '__getitem__', '__getnewargs__', '__getslice__', '__gt__', '__hash__', '__init__', '__iter__', '__le__', '__len__', '__lt__', '__mul__', '__ne__', '__new__', '__reduce__', '__reduce_ex__', '__repr__', '__rmul__', '__setattr__', '__sizeof__', '__str__', '__subclasshook__', 'count', 'index']\n",
        "*******************************"
       ]
      },
      {
       "output_type": "stream",
       "stream": "stdout",
       "text": [
        "\n",
        "i : 2\n",
        "489120\n",
        "4290024\n",
        "   gc.get_objects  sys.getsizeof\n",
        "0           61943         514576\n",
        "1          275454        2380496\n",
        "2          489120        4290024\n",
        "(210337, 420674)"
       ]
      },
      {
       "output_type": "stream",
       "stream": "stdout",
       "text": [
        "\n"
       ]
      }
     ],
     "prompt_number": 3
    },
    {
     "cell_type": "code",
     "collapsed": false,
     "input": [
      "results = pd.DataFrame({0: [62054, 514576], 1: [106212 , 927576], 2: [150098, 1320856], 3: [193984, 1671800],\n",
      "                        4: [237870, 2115960], 5: [281756, 2380496]}).T\n",
      "results.columns = ['gc.getobjects', 'sys.sizeof']"
     ],
     "language": "python",
     "metadata": {},
     "outputs": [],
     "prompt_number": 4
    },
    {
     "cell_type": "code",
     "collapsed": false,
     "input": [
      "results2 = pd.DataFrame({0: [61964, 514576], 1: [66029, 578944], 2: [70216, 578944], 3: [74161, 651360],\n",
      "                         4: [78106, 651360], 5: [82051, 732824]}).T\n",
      "results2.columns = ['gc.getobjects', 'sys.sizeof']"
     ],
     "language": "python",
     "metadata": {},
     "outputs": [],
     "prompt_number": 5
    },
    {
     "cell_type": "code",
     "collapsed": false,
     "input": [
      "a = (results - results.ix[0])\n",
      "a.plot()"
     ],
     "language": "python",
     "metadata": {},
     "outputs": [
      {
       "metadata": {},
       "output_type": "pyout",
       "prompt_number": 6,
       "text": [
        "<matplotlib.axes._subplots.AxesSubplot at 0x12d789f90>"
       ]
      },
      {
       "metadata": {},
       "output_type": "display_data",
       "png": "[encoded data removed]",
       "text": [
        "<matplotlib.figure.Figure at 0x10ecd2d10>"
       ]
      }
     ],
     "prompt_number": 6
    },
    {
     "cell_type": "code",
     "collapsed": false,
     "input": [
      "b = (results2 - results2.ix[0])\n",
      "b.plot()"
     ],
     "language": "python",
     "metadata": {},
     "outputs": [
      {
       "metadata": {},
       "output_type": "pyout",
       "prompt_number": 7,
       "text": [
        "<matplotlib.axes._subplots.AxesSubplot at 0x10acc60d0>"
       ]
      },
      {
       "metadata": {},
       "output_type": "display_data",
       "png": "[encoded data removed]",
       "text": [
        "<matplotlib.figure.Figure at 0x12d77c210>"
       ]
      }
     ],
     "prompt_number": 7
    },
    {
     "cell_type": "code",
     "collapsed": false,
     "input": [
      "a.diff()"
     ],
     "language": "python",
     "metadata": {},
     "outputs": [
      {
       "html": [
        "<div style=\"max-height:1000px;max-width:1500px;overflow:auto;\">\n",
        "<table border=\"1\" class=\"dataframe\">\n",
        "  <thead>\n",
        "    <tr style=\"text-align: right;\">\n",
        "      <th></th>\n",
        "      <th>gc.getobjects</th>\n",
        "      <th>sys.sizeof</th>\n",
        "    </tr>\n",
        "  </thead>\n",
        "  <tbody>\n",
        "    <tr>\n",
        "      <th>0</th>\n",
        "      <td>   NaN</td>\n",
        "      <td>    NaN</td>\n",
        "    </tr>\n",
        "    <tr>\n",
        "      <th>1</th>\n",
        "      <td> 44158</td>\n",
        "      <td> 413000</td>\n",
        "    </tr>\n",
        "    <tr>\n",
        "      <th>2</th>\n",
        "      <td> 43886</td>\n",
        "      <td> 393280</td>\n",
        "    </tr>\n",
        "    <tr>\n",
        "      <th>3</th>\n",
        "      <td> 43886</td>\n",
        "      <td> 350944</td>\n",
        "    </tr>\n",
        "    <tr>\n",
        "      <th>4</th>\n",
        "      <td> 43886</td>\n",
        "      <td> 444160</td>\n",
        "    </tr>\n",
        "    <tr>\n",
        "      <th>5</th>\n",
        "      <td> 43886</td>\n",
        "      <td> 264536</td>\n",
        "    </tr>\n",
        "  </tbody>\n",
        "</table>\n",
        "</div>"
       ],
       "metadata": {},
       "output_type": "pyout",
       "prompt_number": 8,
       "text": [
        "   gc.getobjects  sys.sizeof\n",
        "0            NaN         NaN\n",
        "1          44158      413000\n",
        "2          43886      393280\n",
        "3          43886      350944\n",
        "4          43886      444160\n",
        "5          43886      264536"
       ]
      }
     ],
     "prompt_number": 8
    },
    {
     "cell_type": "code",
     "collapsed": false,
     "input": [
      "figures=[manager.canvas.figure\n",
      "         for manager in matplotlib._pylab_helpers.Gcf.get_all_fig_managers()]"
     ],
     "language": "python",
     "metadata": {},
     "outputs": [],
     "prompt_number": 9
    },
    {
     "cell_type": "code",
     "collapsed": false,
     "input": [
      "figures"
     ],
     "language": "python",
     "metadata": {},
     "outputs": [
      {
       "metadata": {},
       "output_type": "pyout",
       "prompt_number": 10,
       "text": [
        "[]"
       ]
      }
     ],
     "prompt_number": 10
    },
    {
     "cell_type": "code",
     "collapsed": false,
     "input": [
      "plt.get_fignums()"
     ],
     "language": "python",
     "metadata": {},
     "outputs": [
      {
       "metadata": {},
       "output_type": "pyout",
       "prompt_number": 11,
       "text": [
        "[]"
       ]
      }
     ],
     "prompt_number": 11
    },
    {
     "cell_type": "code",
     "collapsed": false,
     "input": [
      "sizes = []\n",
      "s = []\n",
      "for k in gc.get_objects():\n",
      "    sizes.append([k, sys.getsizeof(k)])\n",
      "    s.append(sys.getsizeof(k))"
     ],
     "language": "python",
     "metadata": {},
     "outputs": [],
     "prompt_number": 12
    },
    {
     "cell_type": "code",
     "collapsed": false,
     "input": [
      "ps = [x for x in gc.get_objects() if isinstance(x, matplotlib.axes.Axes)]"
     ],
     "language": "python",
     "metadata": {},
     "outputs": [],
     "prompt_number": 13
    },
    {
     "cell_type": "code",
     "collapsed": false,
     "input": [
      "for p in ps[-10:]:\n",
      "    print(p, [type(x) for x in gc.get_referrers(p)])\n",
      "  #  print(p, gc.get_referents(p))\n",
      "  #  print(p.freq, len(gc.get_referrers(p.freq)))\n",
      "  #  print(type(p.freq), [type(x) for x in gc.get_referrers(p.freq)])"
     ],
     "language": "python",
     "metadata": {},
     "outputs": [
      {
       "output_type": "stream",
       "stream": "stdout",
       "text": [
        "(<matplotlib.axes._subplots.AxesSubplot object at 0x10a0d0f90>, [<type 'list'>, <type 'dict'>, <type 'dict'>, <type 'dict'>, <type 'dict'>, <type 'dict'>, <type 'dict'>, <type 'dict'>, <type 'dict'>, <type 'cell'>, <type 'dict'>, <type 'dict'>, <type 'dict'>, <type 'dict'>, <type 'dict'>, <type 'dict'>, <type 'dict'>, <type 'dict'>, <type 'dict'>, <type 'dict'>, <type 'dict'>, <type 'dict'>, <type 'dict'>, <type 'dict'>, <type 'cell'>, <type 'list'>, <type 'tuple'>, <type 'list'>])\n",
        "(<matplotlib.axes._subplots.AxesSubplot object at 0x10e2acfd0>, [<type 'list'>, <type 'dict'>, <type 'dict'>, <type 'dict'>, <type 'dict'>, <type 'dict'>, <type 'dict'>, <type 'dict'>, <type 'dict'>, <type 'cell'>, <type 'dict'>, <type 'dict'>, <type 'dict'>, <type 'dict'>, <type 'dict'>, <type 'dict'>, <type 'dict'>, <type 'dict'>, <type 'dict'>, <type 'dict'>, <type 'dict'>, <type 'dict'>, <type 'dict'>, <type 'dict'>, <type 'cell'>, <type 'tuple'>, <type 'list'>, <type 'list'>])\n",
        "(<matplotlib.axes._subplots.AxesSubplot object at 0x12d789f90>, [<type 'list'>, <type 'dict'>, <type 'dict'>, <type 'dict'>, <type 'dict'>, <type 'dict'>, <type 'dict'>, <type 'dict'>, <type 'dict'>, <type 'dict'>, <type 'dict'>, <type 'dict'>, <type 'dict'>, <type 'dict'>, <type 'dict'>, <type 'dict'>, <type 'dict'>, <type 'dict'>, <type 'dict'>, <type 'dict'>, <type 'dict'>, <type 'dict'>, <type 'dict'>, <type 'dict'>, <type 'dict'>, <type 'cell'>, <type 'dict'>, <type 'dict'>, <type 'dict'>, <type 'dict'>, <type 'dict'>, <type 'dict'>, <type 'dict'>, <type 'dict'>, <type 'cell'>, <type 'dict'>, <type 'dict'>, <type 'dict'>, <type 'dict'>, <type 'dict'>, <type 'dict'>, <type 'cell'>, <type 'tuple'>, <type 'list'>, <type 'list'>])"
       ]
      },
      {
       "output_type": "stream",
       "stream": "stdout",
       "text": [
        "\n",
        "(<matplotlib.axes._subplots.AxesSubplot object at 0x10acc60d0>, [<type 'list'>, <type 'dict'>, <type 'dict'>, <type 'dict'>, <type 'dict'>, <type 'dict'>, <type 'dict'>, <type 'dict'>, <type 'dict'>, <type 'dict'>, <type 'dict'>, <type 'dict'>, <type 'dict'>, <type 'dict'>, <type 'dict'>, <type 'dict'>, <type 'dict'>, <type 'dict'>, <type 'dict'>, <type 'dict'>, <type 'dict'>, <type 'dict'>, <type 'dict'>, <type 'dict'>, <type 'dict'>, <type 'dict'>, <type 'dict'>, <type 'dict'>, <type 'dict'>, <type 'dict'>, <type 'dict'>, <type 'dict'>, <type 'dict'>, <type 'dict'>, <type 'cell'>, <type 'cell'>, <type 'dict'>, <type 'dict'>, <type 'dict'>, <type 'dict'>, <type 'dict'>, <type 'dict'>, <type 'cell'>, <type 'tuple'>, <type 'list'>, <type 'list'>])\n"
       ]
      }
     ],
     "prompt_number": 14
    },
    {
     "cell_type": "code",
     "collapsed": false,
     "input": [
      "for g in gc.get_referrers(p):\n",
      "    print g\n",
      "    print"
     ],
     "language": "python",
     "metadata": {},
     "outputs": [
      {
       "ename": "UnicodeEncodeError",
       "evalue": "'ascii' codec can't encode characters in position 29-35: ordinal not in range(128)",
       "output_type": "pyerr",
       "traceback": [
        "\u001b[0;31m---------------------------------------------------------------------------\u001b[0m\n\u001b[0;31mUnicodeEncodeError\u001b[0m                        Traceback (most recent call last)",
        "\u001b[0;32m<ipython-input-15-4aae43791070>\u001b[0m in \u001b[0;36m<module>\u001b[0;34m()\u001b[0m\n\u001b[1;32m      1\u001b[0m \u001b[0;32mfor\u001b[0m \u001b[0mg\u001b[0m \u001b[0;32min\u001b[0m \u001b[0mgc\u001b[0m\u001b[0;34m.\u001b[0m\u001b[0mget_referrers\u001b[0m\u001b[0;34m(\u001b[0m\u001b[0mp\u001b[0m\u001b[0;34m)\u001b[0m\u001b[0;34m:\u001b[0m\u001b[0;34m\u001b[0m\u001b[0m\n\u001b[0;32m----> 2\u001b[0;31m     \u001b[0;32mprint\u001b[0m \u001b[0mg\u001b[0m\u001b[0;34m\u001b[0m\u001b[0m\n\u001b[0m\u001b[1;32m      3\u001b[0m     \u001b[0;32mprint\u001b[0m\u001b[0;34m\u001b[0m\u001b[0m\n",
        "\u001b[0;31mUnicodeEncodeError\u001b[0m: 'ascii' codec can't encode characters in position 29-35: ordinal not in range(128)"
       ]
      }
     ],
     "prompt_number": 15
    },
    {
     "cell_type": "code",
     "collapsed": false,
     "input": [
      "pdindex.freqstr"
     ],
     "language": "python",
     "metadata": {},
     "outputs": [
      {
       "metadata": {},
       "output_type": "pyout",
       "prompt_number": 16,
       "text": [
        "'15T'"
       ]
      }
     ],
     "prompt_number": 16
    },
    {
     "cell_type": "code",
     "collapsed": false,
     "input": [
      "gc.get_referrers(p.ordinal)"
     ],
     "language": "python",
     "metadata": {},
     "outputs": [
      {
       "metadata": {},
       "output_type": "pyout",
       "prompt_number": 26,
       "text": [
        "[Period('2013-01-02 00:00', 'T')]"
       ]
      }
     ],
     "prompt_number": 26
    },
    {
     "cell_type": "code",
     "collapsed": false,
     "input": [
      "df"
     ],
     "language": "python",
     "metadata": {},
     "outputs": [
      {
       "html": [
        "<div style=\"max-height:1000px;max-width:1500px;overflow:auto;\">\n",
        "<table border=\"1\" class=\"dataframe\">\n",
        "  <thead>\n",
        "    <tr style=\"text-align: right;\">\n",
        "      <th></th>\n",
        "      <th>test</th>\n",
        "    </tr>\n",
        "  </thead>\n",
        "  <tbody>\n",
        "    <tr>\n",
        "      <th>2013-01-01 00:00:00</th>\n",
        "      <td> 0.336119</td>\n",
        "    </tr>\n",
        "    <tr>\n",
        "      <th>2013-01-01 00:15:00</th>\n",
        "      <td> 0.217713</td>\n",
        "    </tr>\n",
        "    <tr>\n",
        "      <th>2013-01-01 00:30:00</th>\n",
        "      <td>-1.449989</td>\n",
        "    </tr>\n",
        "    <tr>\n",
        "      <th>2013-01-01 00:45:00</th>\n",
        "      <td>-1.476554</td>\n",
        "    </tr>\n",
        "    <tr>\n",
        "      <th>2013-01-01 01:00:00</th>\n",
        "      <td> 0.303561</td>\n",
        "    </tr>\n",
        "    <tr>\n",
        "      <th>2013-01-01 01:15:00</th>\n",
        "      <td>-0.442308</td>\n",
        "    </tr>\n",
        "    <tr>\n",
        "      <th>2013-01-01 01:30:00</th>\n",
        "      <td> 1.042837</td>\n",
        "    </tr>\n",
        "    <tr>\n",
        "      <th>2013-01-01 01:45:00</th>\n",
        "      <td>-0.232321</td>\n",
        "    </tr>\n",
        "    <tr>\n",
        "      <th>2013-01-01 02:00:00</th>\n",
        "      <td>-0.713998</td>\n",
        "    </tr>\n",
        "    <tr>\n",
        "      <th>2013-01-01 02:15:00</th>\n",
        "      <td> 0.728043</td>\n",
        "    </tr>\n",
        "    <tr>\n",
        "      <th>2013-01-01 02:30:00</th>\n",
        "      <td> 0.009795</td>\n",
        "    </tr>\n",
        "    <tr>\n",
        "      <th>2013-01-01 02:45:00</th>\n",
        "      <td> 1.711519</td>\n",
        "    </tr>\n",
        "    <tr>\n",
        "      <th>2013-01-01 03:00:00</th>\n",
        "      <td>-0.496163</td>\n",
        "    </tr>\n",
        "    <tr>\n",
        "      <th>2013-01-01 03:15:00</th>\n",
        "      <td> 0.807709</td>\n",
        "    </tr>\n",
        "    <tr>\n",
        "      <th>2013-01-01 03:30:00</th>\n",
        "      <td>-0.354774</td>\n",
        "    </tr>\n",
        "    <tr>\n",
        "      <th>2013-01-01 03:45:00</th>\n",
        "      <td> 0.250259</td>\n",
        "    </tr>\n",
        "    <tr>\n",
        "      <th>2013-01-01 04:00:00</th>\n",
        "      <td> 0.787267</td>\n",
        "    </tr>\n",
        "    <tr>\n",
        "      <th>2013-01-01 04:15:00</th>\n",
        "      <td>-0.884218</td>\n",
        "    </tr>\n",
        "    <tr>\n",
        "      <th>2013-01-01 04:30:00</th>\n",
        "      <td>-0.231984</td>\n",
        "    </tr>\n",
        "    <tr>\n",
        "      <th>2013-01-01 04:45:00</th>\n",
        "      <td> 0.290393</td>\n",
        "    </tr>\n",
        "    <tr>\n",
        "      <th>2013-01-01 05:00:00</th>\n",
        "      <td>-0.063167</td>\n",
        "    </tr>\n",
        "    <tr>\n",
        "      <th>2013-01-01 05:15:00</th>\n",
        "      <td> 0.559983</td>\n",
        "    </tr>\n",
        "    <tr>\n",
        "      <th>2013-01-01 05:30:00</th>\n",
        "      <td> 0.686671</td>\n",
        "    </tr>\n",
        "    <tr>\n",
        "      <th>2013-01-01 05:45:00</th>\n",
        "      <td> 2.525390</td>\n",
        "    </tr>\n",
        "    <tr>\n",
        "      <th>2013-01-01 06:00:00</th>\n",
        "      <td> 0.162941</td>\n",
        "    </tr>\n",
        "    <tr>\n",
        "      <th>2013-01-01 06:15:00</th>\n",
        "      <td>-0.158486</td>\n",
        "    </tr>\n",
        "    <tr>\n",
        "      <th>2013-01-01 06:30:00</th>\n",
        "      <td> 0.609000</td>\n",
        "    </tr>\n",
        "    <tr>\n",
        "      <th>2013-01-01 06:45:00</th>\n",
        "      <td>-0.912075</td>\n",
        "    </tr>\n",
        "    <tr>\n",
        "      <th>2013-01-01 07:00:00</th>\n",
        "      <td>-1.366432</td>\n",
        "    </tr>\n",
        "    <tr>\n",
        "      <th>2013-01-01 07:15:00</th>\n",
        "      <td> 0.945692</td>\n",
        "    </tr>\n",
        "    <tr>\n",
        "      <th>...</th>\n",
        "      <td>...</td>\n",
        "    </tr>\n",
        "    <tr>\n",
        "      <th>2013-12-31 16:45:00</th>\n",
        "      <td> 0.463944</td>\n",
        "    </tr>\n",
        "    <tr>\n",
        "      <th>2013-12-31 17:00:00</th>\n",
        "      <td>-0.896854</td>\n",
        "    </tr>\n",
        "    <tr>\n",
        "      <th>2013-12-31 17:15:00</th>\n",
        "      <td> 1.122345</td>\n",
        "    </tr>\n",
        "    <tr>\n",
        "      <th>2013-12-31 17:30:00</th>\n",
        "      <td>-0.075513</td>\n",
        "    </tr>\n",
        "    <tr>\n",
        "      <th>2013-12-31 17:45:00</th>\n",
        "      <td> 1.010129</td>\n",
        "    </tr>\n",
        "    <tr>\n",
        "      <th>2013-12-31 18:00:00</th>\n",
        "      <td> 0.410708</td>\n",
        "    </tr>\n",
        "    <tr>\n",
        "      <th>2013-12-31 18:15:00</th>\n",
        "      <td> 2.553663</td>\n",
        "    </tr>\n",
        "    <tr>\n",
        "      <th>2013-12-31 18:30:00</th>\n",
        "      <td>-0.813825</td>\n",
        "    </tr>\n",
        "    <tr>\n",
        "      <th>2013-12-31 18:45:00</th>\n",
        "      <td>-1.675768</td>\n",
        "    </tr>\n",
        "    <tr>\n",
        "      <th>2013-12-31 19:00:00</th>\n",
        "      <td> 0.988340</td>\n",
        "    </tr>\n",
        "    <tr>\n",
        "      <th>2013-12-31 19:15:00</th>\n",
        "      <td> 1.076144</td>\n",
        "    </tr>\n",
        "    <tr>\n",
        "      <th>2013-12-31 19:30:00</th>\n",
        "      <td>-0.785582</td>\n",
        "    </tr>\n",
        "    <tr>\n",
        "      <th>2013-12-31 19:45:00</th>\n",
        "      <td> 1.685771</td>\n",
        "    </tr>\n",
        "    <tr>\n",
        "      <th>2013-12-31 20:00:00</th>\n",
        "      <td>-1.088101</td>\n",
        "    </tr>\n",
        "    <tr>\n",
        "      <th>2013-12-31 20:15:00</th>\n",
        "      <td>-1.785908</td>\n",
        "    </tr>\n",
        "    <tr>\n",
        "      <th>2013-12-31 20:30:00</th>\n",
        "      <td>-1.398124</td>\n",
        "    </tr>\n",
        "    <tr>\n",
        "      <th>2013-12-31 20:45:00</th>\n",
        "      <td> 1.016369</td>\n",
        "    </tr>\n",
        "    <tr>\n",
        "      <th>2013-12-31 21:00:00</th>\n",
        "      <td>-1.897398</td>\n",
        "    </tr>\n",
        "    <tr>\n",
        "      <th>2013-12-31 21:15:00</th>\n",
        "      <td> 0.848233</td>\n",
        "    </tr>\n",
        "    <tr>\n",
        "      <th>2013-12-31 21:30:00</th>\n",
        "      <td>-2.436450</td>\n",
        "    </tr>\n",
        "    <tr>\n",
        "      <th>2013-12-31 21:45:00</th>\n",
        "      <td> 0.485844</td>\n",
        "    </tr>\n",
        "    <tr>\n",
        "      <th>2013-12-31 22:00:00</th>\n",
        "      <td>-0.617174</td>\n",
        "    </tr>\n",
        "    <tr>\n",
        "      <th>2013-12-31 22:15:00</th>\n",
        "      <td>-0.186077</td>\n",
        "    </tr>\n",
        "    <tr>\n",
        "      <th>2013-12-31 22:30:00</th>\n",
        "      <td>-0.991385</td>\n",
        "    </tr>\n",
        "    <tr>\n",
        "      <th>2013-12-31 22:45:00</th>\n",
        "      <td>-0.527247</td>\n",
        "    </tr>\n",
        "    <tr>\n",
        "      <th>2013-12-31 23:00:00</th>\n",
        "      <td> 0.378792</td>\n",
        "    </tr>\n",
        "    <tr>\n",
        "      <th>2013-12-31 23:15:00</th>\n",
        "      <td> 2.242878</td>\n",
        "    </tr>\n",
        "    <tr>\n",
        "      <th>2013-12-31 23:30:00</th>\n",
        "      <td> 0.277828</td>\n",
        "    </tr>\n",
        "    <tr>\n",
        "      <th>2013-12-31 23:45:00</th>\n",
        "      <td>-1.005343</td>\n",
        "    </tr>\n",
        "    <tr>\n",
        "      <th>2014-01-01 00:00:00</th>\n",
        "      <td>-0.166473</td>\n",
        "    </tr>\n",
        "  </tbody>\n",
        "</table>\n",
        "<p>35041 rows \u00d7 1 columns</p>\n",
        "</div>"
       ],
       "metadata": {},
       "output_type": "pyout",
       "prompt_number": 6,
       "text": [
        "                         test\n",
        "2013-01-01 00:00:00  0.336119\n",
        "2013-01-01 00:15:00  0.217713\n",
        "2013-01-01 00:30:00 -1.449989\n",
        "2013-01-01 00:45:00 -1.476554\n",
        "2013-01-01 01:00:00  0.303561\n",
        "2013-01-01 01:15:00 -0.442308\n",
        "2013-01-01 01:30:00  1.042837\n",
        "2013-01-01 01:45:00 -0.232321\n",
        "2013-01-01 02:00:00 -0.713998\n",
        "2013-01-01 02:15:00  0.728043\n",
        "2013-01-01 02:30:00  0.009795\n",
        "2013-01-01 02:45:00  1.711519\n",
        "2013-01-01 03:00:00 -0.496163\n",
        "2013-01-01 03:15:00  0.807709\n",
        "2013-01-01 03:30:00 -0.354774\n",
        "2013-01-01 03:45:00  0.250259\n",
        "2013-01-01 04:00:00  0.787267\n",
        "2013-01-01 04:15:00 -0.884218\n",
        "2013-01-01 04:30:00 -0.231984\n",
        "2013-01-01 04:45:00  0.290393\n",
        "2013-01-01 05:00:00 -0.063167\n",
        "2013-01-01 05:15:00  0.559983\n",
        "2013-01-01 05:30:00  0.686671\n",
        "2013-01-01 05:45:00  2.525390\n",
        "2013-01-01 06:00:00  0.162941\n",
        "2013-01-01 06:15:00 -0.158486\n",
        "2013-01-01 06:30:00  0.609000\n",
        "2013-01-01 06:45:00 -0.912075\n",
        "2013-01-01 07:00:00 -1.366432\n",
        "2013-01-01 07:15:00  0.945692\n",
        "...                       ...\n",
        "2013-12-31 16:45:00  0.463944\n",
        "2013-12-31 17:00:00 -0.896854\n",
        "2013-12-31 17:15:00  1.122345\n",
        "2013-12-31 17:30:00 -0.075513\n",
        "2013-12-31 17:45:00  1.010129\n",
        "2013-12-31 18:00:00  0.410708\n",
        "2013-12-31 18:15:00  2.553663\n",
        "2013-12-31 18:30:00 -0.813825\n",
        "2013-12-31 18:45:00 -1.675768\n",
        "2013-12-31 19:00:00  0.988340\n",
        "2013-12-31 19:15:00  1.076144\n",
        "2013-12-31 19:30:00 -0.785582\n",
        "2013-12-31 19:45:00  1.685771\n",
        "2013-12-31 20:00:00 -1.088101\n",
        "2013-12-31 20:15:00 -1.785908\n",
        "2013-12-31 20:30:00 -1.398124\n",
        "2013-12-31 20:45:00  1.016369\n",
        "2013-12-31 21:00:00 -1.897398\n",
        "2013-12-31 21:15:00  0.848233\n",
        "2013-12-31 21:30:00 -2.436450\n",
        "2013-12-31 21:45:00  0.485844\n",
        "2013-12-31 22:00:00 -0.617174\n",
        "2013-12-31 22:15:00 -0.186077\n",
        "2013-12-31 22:30:00 -0.991385\n",
        "2013-12-31 22:45:00 -0.527247\n",
        "2013-12-31 23:00:00  0.378792\n",
        "2013-12-31 23:15:00  2.242878\n",
        "2013-12-31 23:30:00  0.277828\n",
        "2013-12-31 23:45:00 -1.005343\n",
        "2014-01-01 00:00:00 -0.166473\n",
        "\n",
        "[35041 rows x 1 columns]"
       ]
      }
     ],
     "prompt_number": 6
    },
    {
     "cell_type": "code",
     "collapsed": false,
     "input": [
      "a.ix[:, 0].plot(secondary_y=True)"
     ],
     "language": "python",
     "metadata": {},
     "outputs": [
      {
       "metadata": {},
       "output_type": "pyout",
       "prompt_number": 20,
       "text": [
        "<matplotlib.axes._subplots.AxesSubplot at 0x10a425c10>"
       ]
      },
      {
       "metadata": {},
       "output_type": "display_data",
       "png": "[encoded data removed]",
       "text": [
        "<matplotlib.figure.Figure at 0x10a372a10>"
       ]
      }
     ],
     "prompt_number": 20
    },
    {
     "cell_type": "code",
     "collapsed": false,
     "input": [
      "pf = p._plot_data[0][1]"
     ],
     "language": "python",
     "metadata": {},
     "outputs": [],
     "prompt_number": 19
    },
    {
     "cell_type": "code",
     "collapsed": false,
     "input": [
      "lp = gc.get_referents(pf)[-1][-1]"
     ],
     "language": "python",
     "metadata": {},
     "outputs": [],
     "prompt_number": 23
    },
    {
     "cell_type": "code",
     "collapsed": false,
     "input": [
      "lp.cell_contents."
     ],
     "language": "python",
     "metadata": {},
     "outputs": [
      {
       "metadata": {},
       "output_type": "pyout",
       "png": "[encoded data removed]",
       "prompt_number": 30,
       "text": [
        "<matplotlib.figure.Figure at 0x10b42ff10>"
       ]
      }
     ],
     "prompt_number": 30
    },
    {
     "cell_type": "code",
     "collapsed": false,
     "input": [
      "a/a.ix[0]"
     ],
     "language": "python",
     "metadata": {},
     "outputs": [
      {
       "ename": "NameError",
       "evalue": "name 'a' is not defined",
       "output_type": "pyerr",
       "traceback": [
        "\u001b[0;31m---------------------------------------------------------------------------\u001b[0m\n\u001b[0;31mNameError\u001b[0m                                 Traceback (most recent call last)",
        "\u001b[0;32m<ipython-input-25-f9b5ca11197c>\u001b[0m in \u001b[0;36m<module>\u001b[0;34m()\u001b[0m\n\u001b[0;32m----> 1\u001b[0;31m \u001b[0ma\u001b[0m\u001b[0;34m/\u001b[0m\u001b[0ma\u001b[0m\u001b[0;34m.\u001b[0m\u001b[0mix\u001b[0m\u001b[0;34m[\u001b[0m\u001b[0;36m0\u001b[0m\u001b[0;34m]\u001b[0m\u001b[0;34m\u001b[0m\u001b[0m\n\u001b[0m",
        "\u001b[0;31mNameError\u001b[0m: name 'a' is not defined"
       ]
      }
     ],
     "prompt_number": 25
    },
    {
     "cell_type": "code",
     "collapsed": false,
     "input": [
      "import objgraph"
     ],
     "language": "python",
     "metadata": {},
     "outputs": [],
     "prompt_number": 16
    },
    {
     "cell_type": "code",
     "collapsed": false,
     "input": [
      "objgraph.show_backrefs(p)"
     ],
     "language": "python",
     "metadata": {},
     "outputs": [
      {
       "output_type": "stream",
       "stream": "stdout",
       "text": [
        "Graph written to /var/folders/s0/z1jhs99n5bn57tgfxcmgxf300000gn/T/objgraph-vXWcwJ.dot (60 nodes)\n",
        "Graph viewer (xdot) not found, generating a png instead\n",
        "Image generated as /var/folders/s0/z1jhs99n5bn57tgfxcmgxf300000gn/T/objgraph-vXWcwJ.png"
       ]
      },
      {
       "output_type": "stream",
       "stream": "stdout",
       "text": [
        "\n"
       ]
      }
     ],
     "prompt_number": 18
    },
    {
     "cell_type": "code",
     "collapsed": false,
     "input": [
      "objgraph.show_backrefs(objgraph.by_type('MPLPlot'))"
     ],
     "language": "python",
     "metadata": {},
     "outputs": [
      {
       "output_type": "stream",
       "stream": "stdout",
       "text": [
        "Graph written to /var/folders/s0/z1jhs99n5bn57tgfxcmgxf300000gn/T/objgraph-UH5smJ.dot (0 nodes)\n",
        "Graph viewer (xdot) not found, generating a png instead\n",
        "Image generated as /var/folders/s0/z1jhs99n5bn57tgfxcmgxf300000gn/T/objgraph-UH5smJ.png\n"
       ]
      }
     ],
     "prompt_number": 20
    },
    {
     "cell_type": "code",
     "collapsed": false,
     "input": [],
     "language": "python",
     "metadata": {},
     "outputs": [
      {
       "metadata": {},
       "output_type": "pyout",
       "prompt_number": 21,
       "text": [
        "<matplotlib.axes._subplots.AxesSubplot at 0x10acc60d0>"
       ]
      }
     ],
     "prompt_number": 21
    },
    {
     "cell_type": "code",
     "collapsed": false,
     "input": [],
     "language": "python",
     "metadata": {},
     "outputs": []
    }
   ],
   "metadata": {}
  }
 ]
}